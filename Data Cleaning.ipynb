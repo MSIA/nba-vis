{
 "cells": [
  {
   "cell_type": "code",
   "execution_count": 1,
   "metadata": {},
   "outputs": [],
   "source": [
    "import pandas as pd\n",
    "import numpy as np\n",
    "import matplotlib.pyplot as plt\n",
    "from IPython.core.interactiveshell import InteractiveShell\n",
    "InteractiveShell.ast_node_interactivity = \"all\""
   ]
  },
  {
   "cell_type": "code",
   "execution_count": 2,
   "metadata": {},
   "outputs": [],
   "source": [
    "players = pd.read_csv(\"Players.csv\")\n",
    "stats = pd.read_csv(\"Seasons_Stats.csv\")"
   ]
  },
  {
   "cell_type": "code",
   "execution_count": 3,
   "metadata": {},
   "outputs": [],
   "source": [
    "#players.head()\n",
    "#stats.head()"
   ]
  },
  {
   "cell_type": "code",
   "execution_count": 4,
   "metadata": {},
   "outputs": [],
   "source": [
    "df = stats.merge(players[[\"Player\",\"height\",\"weight\",\"collage\",\"born\",\"birth_city\",\"birth_state\",\"birth_country\"]], on = \"Player\", how=\"inner\")"
   ]
  },
  {
   "cell_type": "code",
   "execution_count": 5,
   "metadata": {},
   "outputs": [],
   "source": [
    "df[\"Year\"] = pd.to_numeric(df[\"Year\"])"
   ]
  },
  {
   "cell_type": "code",
   "execution_count": 6,
   "metadata": {},
   "outputs": [],
   "source": [
    "df76 = df.loc[df.Year>=1976,]\n",
    "df76= df76.loc[df76.Tm != \"TOT\",]"
   ]
  },
  {
   "cell_type": "code",
   "execution_count": 12,
   "metadata": {},
   "outputs": [],
   "source": [
    "df76[\"birth_country\"] = df76.birth_country.fillna(\"United States\")"
   ]
  },
  {
   "cell_type": "code",
   "execution_count": 16,
   "metadata": {},
   "outputs": [],
   "source": [
    "df76.loc[df.Pos == \"PG-SG\", 'Pos'] = \"PG\"\n",
    "df76.loc[df.Pos == \"SF-SG\", 'Pos'] = \"SF\"\n",
    "df76.loc[df.Pos == \"C-PF\", 'Pos'] = \"C\"\n",
    "df76.loc[df.Pos == \"SG-PG\", 'Pos'] = \"SG\"\n",
    "df76.loc[df.Pos == \"PF-C\", 'Pos'] = \"PF\"\n",
    "df76.loc[df.Pos == \"SG-SF\", 'Pos'] = \"SG\"\n",
    "df76.loc[df.Pos == \"PF-SF\", 'Pos'] = \"PF\"\n",
    "df76.loc[df.Pos == \"SF-PF\", 'Pos'] = \"SF\"\n",
    "df76.loc[df.Pos == \"SG-SF\", 'Pos'] = \"SG\"\n",
    "df76.loc[df.Pos == \"C-SF\", 'Pos'] = \"C\"\n",
    "df76.loc[df.Pos == \"PG-SF\", 'Pos'] = \"PG\"\n",
    "df76.loc[df.Pos == \"SG-PF\", 'Pos'] = \"SG\"\n",
    "# df76.Pos.value_counts()"
   ]
  },
  {
   "cell_type": "code",
   "execution_count": 17,
   "metadata": {},
   "outputs": [],
   "source": [
    "# df76.groupby([\"Year\",\"Pos\"]).mean()[\"height\"].reset_index()\n",
    "df76 =df76.drop([\"Unnamed: 0\",\"born\"], axis=1)"
   ]
  },
  {
   "cell_type": "code",
   "execution_count": 18,
   "metadata": {},
   "outputs": [],
   "source": [
    "df76[\"college_flag\"] = df76.collage.notnull()"
   ]
  },
  {
   "cell_type": "code",
   "execution_count": 19,
   "metadata": {},
   "outputs": [],
   "source": [
    "games = df76.groupby(\"Year\").G.max()"
   ]
  },
  {
   "cell_type": "code",
   "execution_count": 20,
   "metadata": {},
   "outputs": [],
   "source": [
    "games = np.minimum(82,games)"
   ]
  },
  {
   "cell_type": "code",
   "execution_count": 21,
   "metadata": {},
   "outputs": [],
   "source": [
    "df76.columns = ['Year', 'Player', 'Pos', 'Age', 'Tm', 'G', 'GS', 'MP', 'PER', 'TS%',\n",
    "       '3PAr', 'FTr', 'ORB%', 'DRB%', 'TRB%', 'AST%', 'STL%', 'BLK%', 'TOV%',\n",
    "       'USG%', 'blanl', 'OWS', 'DWS', 'WS', 'WS/48', 'blank2', 'OBPM', 'DBPM',\n",
    "       'BPM', 'VORP', 'FG', 'FGA', 'FG%', '3P', '3PA', '3P%', '2P', '2PA',\n",
    "       '2P%', 'eFG%', 'FT', 'FTA', 'FT%', 'ORB', 'DRB', 'TRB', 'AST', 'STL',\n",
    "       'BLK', 'TOV', 'PF', 'PTS', 'height', 'weight', 'college', 'birth_city',\n",
    "       'birth_state', 'birth_country', 'college_flag']"
   ]
  },
  {
   "cell_type": "markdown",
   "metadata": {},
   "source": [
    "Summation Statistics by team\n",
    "FG, FGA, 3P, 3PA, 2P, 2PA, FT, FTA, ORB, DRB, TRB, AST, STL, BLK, TOV, PF, PTS\n",
    "\n",
    "Average Statistics by team\n",
    "Age, height, weight, went to college"
   ]
  },
  {
   "cell_type": "code",
   "execution_count": 22,
   "metadata": {},
   "outputs": [],
   "source": [
    "team_sums = df76.groupby([\"Year\",\"Tm\"]).sum().reset_index()[[\"Year\",\"Tm\",\"FG\", \"FGA\", \"3P\",\n",
    "                                                 \"3PA\", \"2P\", \"2PA\",\n",
    "                                                 \"FT\", \"FTA\", \"ORB\",\n",
    "                                                 \"DRB\", \"TRB\", \"AST\",\n",
    "                                                 \"STL\", \"BLK\", \"TOV\", \n",
    "                                                 \"PF\", \"PTS\",\"college_flag\"]]"
   ]
  },
  {
   "cell_type": "code",
   "execution_count": 23,
   "metadata": {},
   "outputs": [],
   "source": [
    "team_sums_norm = team_sums.merge(games.to_frame().reset_index(), on=\"Year\", how=\"inner\")"
   ]
  },
  {
   "cell_type": "code",
   "execution_count": 24,
   "metadata": {},
   "outputs": [],
   "source": [
    "team_sums_norm[[\"FG\", \"FGA\", \"3P\",\"3PA\", \"2P\", \"2PA\",\n",
    "                          \"FT\", \"FTA\", \"ORB\", \"DRB\", \"TRB\", \"AST\",\n",
    "                          \"STL\", \"BLK\", \"TOV\",\"PF\", \"PTS\"]] = np.divide(team_sums_norm[[\"FG\", \"FGA\", \"3P\",\"3PA\", \"2P\", \"2PA\",\n",
    "                          \"FT\", \"FTA\", \"ORB\", \"DRB\", \"TRB\", \"AST\",\n",
    "                          \"STL\", \"BLK\", \"TOV\",\"PF\", \"PTS\"]], np.transpose([team_sums_norm.G]*17))"
   ]
  },
  {
   "cell_type": "code",
   "execution_count": 25,
   "metadata": {},
   "outputs": [],
   "source": [
    "team_sums_norm[\"FT%\"] = team_sums_norm[\"FT\"]/team_sums_norm[\"FTA\"]\n",
    "team_sums_norm[\"3P%\"] = team_sums_norm[\"3P\"]/team_sums_norm[\"3PA\"]\n",
    "team_sums_norm[\"2P%\"] = team_sums_norm[\"2P\"]/team_sums_norm[\"2PA\"]"
   ]
  },
  {
   "cell_type": "code",
   "execution_count": 26,
   "metadata": {},
   "outputs": [],
   "source": [
    "normalized_stats = team_sums_norm.groupby(\"Year\").mean()"
   ]
  },
  {
   "cell_type": "code",
   "execution_count": 27,
   "metadata": {},
   "outputs": [],
   "source": [
    "team_means = df76.groupby([\"Year\",\"Tm\"]).mean().reset_index()[[\"Year\",\"Tm\",\"Age\", \"height\", \"weight\"]]"
   ]
  },
  {
   "cell_type": "code",
   "execution_count": 28,
   "metadata": {},
   "outputs": [],
   "source": [
    "positions_norm = df76.groupby([\"Year\",\"Pos\"]).sum().reset_index()[[\"Year\",\"Pos\",\"G\",\"FG\", \"FGA\", \"3P\",\n",
    "                                                 \"3PA\", \"2P\", \"2PA\",\n",
    "                                                 \"FT\", \"FTA\", \"ORB\",\n",
    "                                                 \"DRB\", \"TRB\", \"AST\",\n",
    "                                                 \"STL\", \"BLK\", \"TOV\", \n",
    "                                                 \"PF\", \"PTS\",\"college_flag\"]]"
   ]
  },
  {
   "cell_type": "code",
   "execution_count": 29,
   "metadata": {},
   "outputs": [],
   "source": [
    "positions_norm[[\"FG\", \"FGA\", \"3P\",\"3PA\", \"2P\", \"2PA\",\n",
    "                          \"FT\", \"FTA\", \"ORB\", \"DRB\", \"TRB\", \"AST\",\n",
    "                          \"STL\", \"BLK\", \"TOV\",\"PF\", \"PTS\"]] = np.divide(positions_norm[[\"FG\", \"FGA\", \"3P\",\"3PA\", \"2P\", \"2PA\",\n",
    "                          \"FT\", \"FTA\", \"ORB\", \"DRB\", \"TRB\", \"AST\",\n",
    "                          \"STL\", \"BLK\", \"TOV\",\"PF\", \"PTS\"]], np.transpose([positions_norm.G]*17))"
   ]
  },
  {
   "cell_type": "code",
   "execution_count": 30,
   "metadata": {},
   "outputs": [],
   "source": [
    "positions_norm_stats = positions_norm.drop(\"G\",axis=1)"
   ]
  },
  {
   "cell_type": "code",
   "execution_count": 31,
   "metadata": {},
   "outputs": [],
   "source": [
    "positions_norm_stats[\"FT%\"] = positions_norm_stats[\"FT\"]/positions_norm_stats[\"FTA\"]\n",
    "positions_norm_stats[\"3P%\"] = positions_norm_stats[\"3P\"]/positions_norm_stats[\"3PA\"]\n",
    "positions_norm_stats[\"2P%\"] = positions_norm_stats[\"2P\"]/positions_norm_stats[\"2PA\"]"
   ]
  },
  {
   "cell_type": "code",
   "execution_count": 32,
   "metadata": {},
   "outputs": [],
   "source": [
    "positions_means = df76.groupby([\"Year\",\"Pos\"]).mean().reset_index()[[\"Year\",\"Pos\",\"Age\", \"height\", \"weight\"]]"
   ]
  },
  {
   "cell_type": "code",
   "execution_count": 33,
   "metadata": {},
   "outputs": [],
   "source": [
    "position_counts = df76.groupby([\"Year\",\"Pos\"]).nunique()[\"Player\"].to_frame().reset_index()"
   ]
  },
  {
   "cell_type": "code",
   "execution_count": 34,
   "metadata": {},
   "outputs": [],
   "source": [
    "positions_means = positions_means.merge(position_counts, on = [\"Year\",\"Pos\"], how=\"inner\")"
   ]
  },
  {
   "cell_type": "code",
   "execution_count": 35,
   "metadata": {},
   "outputs": [],
   "source": [
    "Joe_missings = df76.loc[df76.birth_city.isnull(),].groupby(\"Player\").min()[[\"Year\",\"college\",\"birth_city\",\"birth_state\",\"birth_country\"]]"
   ]
  },
  {
   "cell_type": "code",
   "execution_count": 36,
   "metadata": {},
   "outputs": [],
   "source": [
    "globalization = df76.groupby([\"Year\",\"Player\",\"birth_city\",\"birth_state\",\"birth_country\"]).mean().reset_index()[[\"Year\",\"Player\",\"birth_city\",\"birth_state\",\"birth_country\"]]"
   ]
  },
  {
   "cell_type": "code",
   "execution_count": 37,
   "metadata": {},
   "outputs": [],
   "source": [
    "positions_means.to_csv(\"Data/positions_means.csv\")\n",
    "normalized_stats.to_csv(\"Data/normalized_stats.csv\")\n",
    "positions_norm_stats.to_csv(\"Data/positions_norm_stats.csv\")\n",
    "team_sums_norm.to_csv(\"Data/team_sums_norm.csv\")\n",
    "team_means.to_csv(\"Data/team_means.csv\")\n",
    "Joe_missings.to_csv(\"Data/Joe_missings.csv\")\n",
    "globalization.to_csv(\"Data/globalization.csv\")"
   ]
  },
  {
   "cell_type": "code",
   "execution_count": null,
   "metadata": {},
   "outputs": [],
   "source": []
  },
  {
   "cell_type": "code",
   "execution_count": 98,
   "metadata": {},
   "outputs": [
    {
     "data": {
      "text/plain": [
       "'\\nvizdf = df76.groupby([\"Year\"]).mean().reset_index()[[\"Year\",\"3P\",\"3PA\",\"3P%\",\"height\",\"Age\"]]\\nplayers_in_league = df76.groupby(\"Year\").nunique()\\nplt.plot(players_in_league.index, players_in_league.Player)\\n#3-point attempts over time\\nplt.plot(vizdf.Year, vizdf[\"3PA\"])\\nplt.plot(vizdf.Year, vizdf[\"3P\"])\\nplt.plot(vizdf.Year, vizdf[\"3P%\"])\\nplt.plot(vizdf.Year, vizdf[\"height\"])\\nplt.plot(vizdf.Year, vizdf[\"Age\"])\\n'"
      ]
     },
     "execution_count": 98,
     "metadata": {},
     "output_type": "execute_result"
    }
   ],
   "source": [
    "'''\n",
    "vizdf = df76.groupby([\"Year\"]).mean().reset_index()[[\"Year\",\"3P\",\"3PA\",\"3P%\",\"height\",\"Age\"]]\n",
    "players_in_league = df76.groupby(\"Year\").nunique()\n",
    "plt.plot(players_in_league.index, players_in_league.Player)\n",
    "#3-point attempts over time\n",
    "plt.plot(vizdf.Year, vizdf[\"3PA\"])\n",
    "plt.plot(vizdf.Year, vizdf[\"3P\"])\n",
    "plt.plot(vizdf.Year, vizdf[\"3P%\"])\n",
    "plt.plot(vizdf.Year, vizdf[\"height\"])\n",
    "plt.plot(vizdf.Year, vizdf[\"Age\"])\n",
    "'''"
   ]
  },
  {
   "cell_type": "code",
   "execution_count": 148,
   "metadata": {},
   "outputs": [],
   "source": []
  }
 ],
 "metadata": {
  "kernelspec": {
   "display_name": "Python 3",
   "language": "python",
   "name": "python3"
  },
  "language_info": {
   "codemirror_mode": {
    "name": "ipython",
    "version": 3
   },
   "file_extension": ".py",
   "mimetype": "text/x-python",
   "name": "python",
   "nbconvert_exporter": "python",
   "pygments_lexer": "ipython3",
   "version": "3.6.4"
  }
 },
 "nbformat": 4,
 "nbformat_minor": 2
}
