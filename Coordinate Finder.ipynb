{
 "cells": [
  {
   "cell_type": "code",
   "execution_count": 77,
   "metadata": {},
   "outputs": [],
   "source": [
    "from geopy.geocoders import Nominatim\n",
    "import pandas as pd\n",
    "import time\n",
    "from IPython.core.interactiveshell import InteractiveShell\n",
    "InteractiveShell.ast_node_interactivity = \"all\""
   ]
  },
  {
   "cell_type": "code",
   "execution_count": 324,
   "metadata": {},
   "outputs": [],
   "source": [
    "globe = pd.read_csv(\"Data/globalization.csv\")"
   ]
  },
  {
   "cell_type": "code",
   "execution_count": 325,
   "metadata": {},
   "outputs": [],
   "source": [
    "globe = globe.fillna(\"\")"
   ]
  },
  {
   "cell_type": "code",
   "execution_count": 471,
   "metadata": {},
   "outputs": [],
   "source": [
    "globe.loc[globe.birth_city == \"Herleton\",\"birth_city\"] = \"Harleton\"\n",
    "globe.loc[globe.birth_city == \"Ark City\",\"birth_city\"] = \"Arkansas City\"\n",
    "globe.loc[globe.birth_city == \"Talbottom\",\"birth_city\"] = \"Talbotton\"\n",
    "globe.loc[globe.birth_city == \"Indianaola\",\"birth_city\"] = \"Indianola\"\n",
    "globe.loc[globe.birth_city == \"Rolling Ford\",\"birth_city\"] = \"Rolling Fork\"\n",
    "globe.loc[globe.birth_city == \"Wallance\",\"birth_city\"] = \"Wallace\"\n",
    "globe.loc[globe.birth_city == \"Indianaola\",\"birth_city\"] = \"Indianola\"\n",
    "globe.loc[globe.birth_city == \"Nachitoches\",\"birth_city\"] = \"Natchitoches\"\n",
    "globe.loc[globe.birth_city == \"Wilson Mills\",\"birth_city\"] = \"Wilsons Mills\"\n",
    "globe.loc[globe.birth_city == \"West Baden\",\"birth_city\"] = \"West Baden Springs\"\n",
    "globe.loc[globe.birth_city == \"Copaigue\",\"birth_city\"] = \"Copiague\"\n",
    "globe.loc[globe.birth_city == \"Osecola\",\"birth_city\"] = \"Osceola\"\n",
    "globe.loc[globe.birth_city == \"Loblesville\",\"birth_city\"] = \"Lobelville\"\n",
    "globe.loc[globe.birth_city == \"Denhelder\",\"birth_city\"] = \"Den Helder\"\n",
    "globe.loc[globe.birth_city == \"Panama Canal Zone\",\"birth_city\"] = \"Panama City\"\n",
    "globe.loc[globe.birth_city == \"Albonito\",\"birth_city\"] = \"Aibonito\"\n",
    "globe.loc[globe.birth_city == \"Curtiba\",\"birth_city\"] = \"Curitiba\"\n",
    "globe.loc[globe.birth_city == \"LaRomana\",\"birth_city\"] = \"La Romana\"\n",
    "globe.loc[globe.birth_city == \"Trabajara\",\"birth_city\"] = \"Rio De Janeiro\"\n",
    "globe.loc[globe.birth_city == \"Eleuthra\",\"birth_city\"] = \"Eleuthera\"\n",
    "globe.loc[globe.birth_city == \"Bassanod'Grappa\",\"birth_city\"] = \"Bassano del Grappa\"\n",
    "globe.loc[globe.birth_city == \"Cucq-Trepied-Stella-Plage\",\"birth_city\"] = \"Cucq\"\n",
    "globe.loc[globe.birth_city == \"Slavoska Pozega \",\"birth_city\"] = \"Pozega\"\n",
    "globe.loc[globe.birth_city == \"Buenos Aries\",\"birth_city\"] = \"Buenos Aires\"\n",
    "globe.loc[globe.birth_city == \"Edda\",\"birth_city\"] = \"Etta\"\n",
    "globe.loc[globe.birth_city == \"Cormeille-en-Parisis\",\"birth_city\"] = \"Cormeilles-en-Parisis\"\n",
    "globe.loc[globe.birth_city == \"He Shan\",\"birth_city\"] = \"Hokshan\"\n",
    "globe.loc[globe.birth_city == \"Worzbach\",\"birth_city\"] = \"Wurzbach\"\n",
    "globe.loc[globe.birth_city == \"Juiz de Forz\",\"birth_city\"] = \"Juiz de Fora\"\n",
    "globe.loc[globe.birth_city == \"Amarousio\",\"birth_city\"] = \"Marousi\"\n",
    "\n",
    "# state wrong\n",
    "globe.loc[globe.birth_city == \"Watonga\",\"birth_state\"] = \"Oklahoma\"\n",
    "globe.loc[globe.birth_city == \"Las Vegas\",\"birth_state\"] = \"Nevada\"\n",
    "\n",
    "\n",
    "# state and country\n",
    "globe.loc[globe.birth_city == \"Rustavi\",\"birth_state\"] = \"\"\n",
    "globe.loc[globe.birth_city == \"Rustavi\",\"birth_country\"] = \"Georgia\"\n",
    "globe.loc[globe.birth_city == \"Tbilisi\",\"birth_state\"] = \"\"\n",
    "globe.loc[globe.birth_city == \"Tbilisi\",\"birth_country\"] = \"Georgia\"\n",
    "globe.loc[globe.birth_city == \"Tblisi\",\"birth_city\"] = \"Tbilisi\"\n",
    "globe.loc[globe.birth_city == \"Tblisi\",\"birth_state\"] = \"\"\n",
    "globe.loc[globe.birth_city == \"Tblisi\",\"birth_country\"] = \"Georgia\"\n",
    "globe.loc[globe.birth_city == \"Skopje\",\"birth_country\"] = \"Macedonia\""
   ]
  },
  {
   "cell_type": "code",
   "execution_count": 472,
   "metadata": {},
   "outputs": [],
   "source": [
    "globe[\"cat\"] = globe.birth_city + \" \" + globe.birth_state + \" \"+ globe.birth_country"
   ]
  },
  {
   "cell_type": "code",
   "execution_count": 473,
   "metadata": {},
   "outputs": [],
   "source": [
    "cities = globe.cat.unique()"
   ]
  },
  {
   "cell_type": "code",
   "execution_count": 474,
   "metadata": {},
   "outputs": [
    {
     "data": {
      "text/plain": [
       "(1208,)"
      ]
     },
     "execution_count": 474,
     "metadata": {},
     "output_type": "execute_result"
    }
   ],
   "source": [
    "cities.shape"
   ]
  },
  {
   "cell_type": "code",
   "execution_count": 475,
   "metadata": {},
   "outputs": [
    {
     "name": "stdout",
     "output_type": "stream",
     "text": [
      "New Orleans Louisiana United States\n"
     ]
    }
   ],
   "source": [
    "lats = []\n",
    "longs =[]\n",
    "geolocator = Nominatim()\n",
    "j = 0\n",
    "try:\n",
    "    for i in cities:\n",
    "        j+=1\n",
    "        location = geolocator.geocode(i, timeout=30)\n",
    "        lats.append(location.latitude)\n",
    "        longs.append(location.longitude)\n",
    "        if (j%100 == 0):\n",
    "            print(j)\n",
    "except:\n",
    "    print(i)\n",
    "        "
   ]
  },
  {
   "cell_type": "code",
   "execution_count": 476,
   "metadata": {},
   "outputs": [
    {
     "ename": "GeocoderServiceError",
     "evalue": "HTTP Error 429: Too Many Requests",
     "output_type": "error",
     "traceback": [
      "\u001b[1;31m---------------------------------------------------------------------------\u001b[0m",
      "\u001b[1;31mHTTPError\u001b[0m                                 Traceback (most recent call last)",
      "\u001b[1;32m~\\Anaconda3DeepLearningApril\\lib\\site-packages\\geopy\\geocoders\\base.py\u001b[0m in \u001b[0;36m_call_geocoder\u001b[1;34m(self, url, timeout, raw, requester, deserializer, **kwargs)\u001b[0m\n\u001b[0;32m    271\u001b[0m         \u001b[1;32mtry\u001b[0m\u001b[1;33m:\u001b[0m\u001b[1;33m\u001b[0m\u001b[0m\n\u001b[1;32m--> 272\u001b[1;33m             \u001b[0mpage\u001b[0m \u001b[1;33m=\u001b[0m \u001b[0mrequester\u001b[0m\u001b[1;33m(\u001b[0m\u001b[0mreq\u001b[0m\u001b[1;33m,\u001b[0m \u001b[0mtimeout\u001b[0m\u001b[1;33m=\u001b[0m\u001b[0mtimeout\u001b[0m\u001b[1;33m,\u001b[0m \u001b[1;33m**\u001b[0m\u001b[0mkwargs\u001b[0m\u001b[1;33m)\u001b[0m\u001b[1;33m\u001b[0m\u001b[0m\n\u001b[0m\u001b[0;32m    273\u001b[0m         \u001b[1;32mexcept\u001b[0m \u001b[0mException\u001b[0m \u001b[1;32mas\u001b[0m \u001b[0merror\u001b[0m\u001b[1;33m:\u001b[0m \u001b[1;31m# pylint: disable=W0703\u001b[0m\u001b[1;33m\u001b[0m\u001b[0m\n",
      "\u001b[1;32m~\\Anaconda3DeepLearningApril\\lib\\urllib\\request.py\u001b[0m in \u001b[0;36mopen\u001b[1;34m(self, fullurl, data, timeout)\u001b[0m\n\u001b[0;32m    531\u001b[0m             \u001b[0mmeth\u001b[0m \u001b[1;33m=\u001b[0m \u001b[0mgetattr\u001b[0m\u001b[1;33m(\u001b[0m\u001b[0mprocessor\u001b[0m\u001b[1;33m,\u001b[0m \u001b[0mmeth_name\u001b[0m\u001b[1;33m)\u001b[0m\u001b[1;33m\u001b[0m\u001b[0m\n\u001b[1;32m--> 532\u001b[1;33m             \u001b[0mresponse\u001b[0m \u001b[1;33m=\u001b[0m \u001b[0mmeth\u001b[0m\u001b[1;33m(\u001b[0m\u001b[0mreq\u001b[0m\u001b[1;33m,\u001b[0m \u001b[0mresponse\u001b[0m\u001b[1;33m)\u001b[0m\u001b[1;33m\u001b[0m\u001b[0m\n\u001b[0m\u001b[0;32m    533\u001b[0m \u001b[1;33m\u001b[0m\u001b[0m\n",
      "\u001b[1;32m~\\Anaconda3DeepLearningApril\\lib\\urllib\\request.py\u001b[0m in \u001b[0;36mhttp_response\u001b[1;34m(self, request, response)\u001b[0m\n\u001b[0;32m    641\u001b[0m             response = self.parent.error(\n\u001b[1;32m--> 642\u001b[1;33m                 'http', request, response, code, msg, hdrs)\n\u001b[0m\u001b[0;32m    643\u001b[0m \u001b[1;33m\u001b[0m\u001b[0m\n",
      "\u001b[1;32m~\\Anaconda3DeepLearningApril\\lib\\urllib\\request.py\u001b[0m in \u001b[0;36merror\u001b[1;34m(self, proto, *args)\u001b[0m\n\u001b[0;32m    569\u001b[0m             \u001b[0margs\u001b[0m \u001b[1;33m=\u001b[0m \u001b[1;33m(\u001b[0m\u001b[0mdict\u001b[0m\u001b[1;33m,\u001b[0m \u001b[1;34m'default'\u001b[0m\u001b[1;33m,\u001b[0m \u001b[1;34m'http_error_default'\u001b[0m\u001b[1;33m)\u001b[0m \u001b[1;33m+\u001b[0m \u001b[0morig_args\u001b[0m\u001b[1;33m\u001b[0m\u001b[0m\n\u001b[1;32m--> 570\u001b[1;33m             \u001b[1;32mreturn\u001b[0m \u001b[0mself\u001b[0m\u001b[1;33m.\u001b[0m\u001b[0m_call_chain\u001b[0m\u001b[1;33m(\u001b[0m\u001b[1;33m*\u001b[0m\u001b[0margs\u001b[0m\u001b[1;33m)\u001b[0m\u001b[1;33m\u001b[0m\u001b[0m\n\u001b[0m\u001b[0;32m    571\u001b[0m \u001b[1;33m\u001b[0m\u001b[0m\n",
      "\u001b[1;32m~\\Anaconda3DeepLearningApril\\lib\\urllib\\request.py\u001b[0m in \u001b[0;36m_call_chain\u001b[1;34m(self, chain, kind, meth_name, *args)\u001b[0m\n\u001b[0;32m    503\u001b[0m             \u001b[0mfunc\u001b[0m \u001b[1;33m=\u001b[0m \u001b[0mgetattr\u001b[0m\u001b[1;33m(\u001b[0m\u001b[0mhandler\u001b[0m\u001b[1;33m,\u001b[0m \u001b[0mmeth_name\u001b[0m\u001b[1;33m)\u001b[0m\u001b[1;33m\u001b[0m\u001b[0m\n\u001b[1;32m--> 504\u001b[1;33m             \u001b[0mresult\u001b[0m \u001b[1;33m=\u001b[0m \u001b[0mfunc\u001b[0m\u001b[1;33m(\u001b[0m\u001b[1;33m*\u001b[0m\u001b[0margs\u001b[0m\u001b[1;33m)\u001b[0m\u001b[1;33m\u001b[0m\u001b[0m\n\u001b[0m\u001b[0;32m    505\u001b[0m             \u001b[1;32mif\u001b[0m \u001b[0mresult\u001b[0m \u001b[1;32mis\u001b[0m \u001b[1;32mnot\u001b[0m \u001b[1;32mNone\u001b[0m\u001b[1;33m:\u001b[0m\u001b[1;33m\u001b[0m\u001b[0m\n",
      "\u001b[1;32m~\\Anaconda3DeepLearningApril\\lib\\urllib\\request.py\u001b[0m in \u001b[0;36mhttp_error_default\u001b[1;34m(self, req, fp, code, msg, hdrs)\u001b[0m\n\u001b[0;32m    649\u001b[0m     \u001b[1;32mdef\u001b[0m \u001b[0mhttp_error_default\u001b[0m\u001b[1;33m(\u001b[0m\u001b[0mself\u001b[0m\u001b[1;33m,\u001b[0m \u001b[0mreq\u001b[0m\u001b[1;33m,\u001b[0m \u001b[0mfp\u001b[0m\u001b[1;33m,\u001b[0m \u001b[0mcode\u001b[0m\u001b[1;33m,\u001b[0m \u001b[0mmsg\u001b[0m\u001b[1;33m,\u001b[0m \u001b[0mhdrs\u001b[0m\u001b[1;33m)\u001b[0m\u001b[1;33m:\u001b[0m\u001b[1;33m\u001b[0m\u001b[0m\n\u001b[1;32m--> 650\u001b[1;33m         \u001b[1;32mraise\u001b[0m \u001b[0mHTTPError\u001b[0m\u001b[1;33m(\u001b[0m\u001b[0mreq\u001b[0m\u001b[1;33m.\u001b[0m\u001b[0mfull_url\u001b[0m\u001b[1;33m,\u001b[0m \u001b[0mcode\u001b[0m\u001b[1;33m,\u001b[0m \u001b[0mmsg\u001b[0m\u001b[1;33m,\u001b[0m \u001b[0mhdrs\u001b[0m\u001b[1;33m,\u001b[0m \u001b[0mfp\u001b[0m\u001b[1;33m)\u001b[0m\u001b[1;33m\u001b[0m\u001b[0m\n\u001b[0m\u001b[0;32m    651\u001b[0m \u001b[1;33m\u001b[0m\u001b[0m\n",
      "\u001b[1;31mHTTPError\u001b[0m: HTTP Error 429: Too Many Requests",
      "\nDuring handling of the above exception, another exception occurred:\n",
      "\u001b[1;31mKeyError\u001b[0m                                  Traceback (most recent call last)",
      "\u001b[1;32m~\\Anaconda3DeepLearningApril\\lib\\site-packages\\geopy\\geocoders\\base.py\u001b[0m in \u001b[0;36m_call_geocoder\u001b[1;34m(self, url, timeout, raw, requester, deserializer, **kwargs)\u001b[0m\n\u001b[0;32m    285\u001b[0m                 \u001b[1;32mtry\u001b[0m\u001b[1;33m:\u001b[0m\u001b[1;33m\u001b[0m\u001b[0m\n\u001b[1;32m--> 286\u001b[1;33m                     \u001b[1;32mraise\u001b[0m \u001b[0mERROR_CODE_MAP\u001b[0m\u001b[1;33m[\u001b[0m\u001b[0mcode\u001b[0m\u001b[1;33m]\u001b[0m\u001b[1;33m(\u001b[0m\u001b[0mmessage\u001b[0m\u001b[1;33m)\u001b[0m\u001b[1;33m\u001b[0m\u001b[0m\n\u001b[0m\u001b[0;32m    287\u001b[0m                 \u001b[1;32mexcept\u001b[0m \u001b[0mKeyError\u001b[0m\u001b[1;33m:\u001b[0m\u001b[1;33m\u001b[0m\u001b[0m\n",
      "\u001b[1;31mKeyError\u001b[0m: 429",
      "\nDuring handling of the above exception, another exception occurred:\n",
      "\u001b[1;31mGeocoderServiceError\u001b[0m                      Traceback (most recent call last)",
      "\u001b[1;32m<ipython-input-476-f5fa1be74f87>\u001b[0m in \u001b[0;36m<module>\u001b[1;34m()\u001b[0m\n\u001b[1;32m----> 1\u001b[1;33m \u001b[0mgeolocator\u001b[0m\u001b[1;33m.\u001b[0m\u001b[0mgeocode\u001b[0m\u001b[1;33m(\u001b[0m\u001b[1;34m\"New Orleans Louisiana United States\"\u001b[0m\u001b[1;33m)\u001b[0m\u001b[1;33m\u001b[0m\u001b[0m\n\u001b[0m",
      "\u001b[1;32m~\\Anaconda3DeepLearningApril\\lib\\site-packages\\geopy\\geocoders\\osm.py\u001b[0m in \u001b[0;36mgeocode\u001b[1;34m(self, query, exactly_one, timeout, limit, addressdetails, language, geometry)\u001b[0m\n\u001b[0;32m    234\u001b[0m \u001b[1;33m\u001b[0m\u001b[0m\n\u001b[0;32m    235\u001b[0m         return self._parse_json(\n\u001b[1;32m--> 236\u001b[1;33m             \u001b[0mself\u001b[0m\u001b[1;33m.\u001b[0m\u001b[0m_call_geocoder\u001b[0m\u001b[1;33m(\u001b[0m\u001b[0murl\u001b[0m\u001b[1;33m,\u001b[0m \u001b[0mtimeout\u001b[0m\u001b[1;33m=\u001b[0m\u001b[0mtimeout\u001b[0m\u001b[1;33m)\u001b[0m\u001b[1;33m,\u001b[0m \u001b[0mexactly_one\u001b[0m\u001b[1;33m\u001b[0m\u001b[0m\n\u001b[0m\u001b[0;32m    237\u001b[0m         )\n\u001b[0;32m    238\u001b[0m \u001b[1;33m\u001b[0m\u001b[0m\n",
      "\u001b[1;32m~\\Anaconda3DeepLearningApril\\lib\\site-packages\\geopy\\geocoders\\base.py\u001b[0m in \u001b[0;36m_call_geocoder\u001b[1;34m(self, url, timeout, raw, requester, deserializer, **kwargs)\u001b[0m\n\u001b[0;32m    286\u001b[0m                     \u001b[1;32mraise\u001b[0m \u001b[0mERROR_CODE_MAP\u001b[0m\u001b[1;33m[\u001b[0m\u001b[0mcode\u001b[0m\u001b[1;33m]\u001b[0m\u001b[1;33m(\u001b[0m\u001b[0mmessage\u001b[0m\u001b[1;33m)\u001b[0m\u001b[1;33m\u001b[0m\u001b[0m\n\u001b[0;32m    287\u001b[0m                 \u001b[1;32mexcept\u001b[0m \u001b[0mKeyError\u001b[0m\u001b[1;33m:\u001b[0m\u001b[1;33m\u001b[0m\u001b[0m\n\u001b[1;32m--> 288\u001b[1;33m                     \u001b[1;32mraise\u001b[0m \u001b[0mGeocoderServiceError\u001b[0m\u001b[1;33m(\u001b[0m\u001b[0mmessage\u001b[0m\u001b[1;33m)\u001b[0m\u001b[1;33m\u001b[0m\u001b[0m\n\u001b[0m\u001b[0;32m    289\u001b[0m             \u001b[1;32melif\u001b[0m \u001b[0misinstance\u001b[0m\u001b[1;33m(\u001b[0m\u001b[0merror\u001b[0m\u001b[1;33m,\u001b[0m \u001b[0mURLError\u001b[0m\u001b[1;33m)\u001b[0m\u001b[1;33m:\u001b[0m\u001b[1;33m\u001b[0m\u001b[0m\n\u001b[0;32m    290\u001b[0m                 \u001b[1;32mif\u001b[0m \u001b[1;34m\"timed out\"\u001b[0m \u001b[1;32min\u001b[0m \u001b[0mmessage\u001b[0m\u001b[1;33m:\u001b[0m\u001b[1;33m\u001b[0m\u001b[0m\n",
      "\u001b[1;31mGeocoderServiceError\u001b[0m: HTTP Error 429: Too Many Requests"
     ]
    }
   ],
   "source": [
    "geolocator.geocode(\"New Orleans Louisiana United States\")"
   ]
  },
  {
   "cell_type": "code",
   "execution_count": 167,
   "metadata": {},
   "outputs": [],
   "source": [
    "#pd.Series(cities)\n",
    "coordinates = pd.concat([pd.Series(cities), pd.Series(lats), pd.Series(longs)], axis=1)"
   ]
  },
  {
   "cell_type": "code",
   "execution_count": 173,
   "metadata": {},
   "outputs": [],
   "source": [
    "coordinates.columns = [\"Location\",\"Latitude\",\"Longitude\"]"
   ]
  },
  {
   "cell_type": "code",
   "execution_count": 174,
   "metadata": {},
   "outputs": [
    {
     "data": {
      "text/html": [
       "<div>\n",
       "<style scoped>\n",
       "    .dataframe tbody tr th:only-of-type {\n",
       "        vertical-align: middle;\n",
       "    }\n",
       "\n",
       "    .dataframe tbody tr th {\n",
       "        vertical-align: top;\n",
       "    }\n",
       "\n",
       "    .dataframe thead th {\n",
       "        text-align: right;\n",
       "    }\n",
       "</style>\n",
       "<table border=\"1\" class=\"dataframe\">\n",
       "  <thead>\n",
       "    <tr style=\"text-align: right;\">\n",
       "      <th></th>\n",
       "      <th>Location</th>\n",
       "      <th>Latitude</th>\n",
       "      <th>Longitude</th>\n",
       "    </tr>\n",
       "  </thead>\n",
       "  <tbody>\n",
       "    <tr>\n",
       "      <th>0</th>\n",
       "      <td>New Orleans Louisiana United States</td>\n",
       "      <td>30.032802</td>\n",
       "      <td>-89.975005</td>\n",
       "    </tr>\n",
       "    <tr>\n",
       "      <th>1</th>\n",
       "      <td>Oceanside California United States</td>\n",
       "      <td>33.195870</td>\n",
       "      <td>-117.379483</td>\n",
       "    </tr>\n",
       "    <tr>\n",
       "      <th>2</th>\n",
       "      <td>Cedar Rapids Iowa United States</td>\n",
       "      <td>41.975887</td>\n",
       "      <td>-91.670405</td>\n",
       "    </tr>\n",
       "    <tr>\n",
       "      <th>3</th>\n",
       "      <td>Lawrence Kansas United States</td>\n",
       "      <td>38.971938</td>\n",
       "      <td>-95.235950</td>\n",
       "    </tr>\n",
       "    <tr>\n",
       "      <th>4</th>\n",
       "      <td>Conway Arkansas United States</td>\n",
       "      <td>35.088696</td>\n",
       "      <td>-92.442101</td>\n",
       "    </tr>\n",
       "  </tbody>\n",
       "</table>\n",
       "</div>"
      ],
      "text/plain": [
       "                              Location   Latitude   Longitude\n",
       "0  New Orleans Louisiana United States  30.032802  -89.975005\n",
       "1   Oceanside California United States  33.195870 -117.379483\n",
       "2      Cedar Rapids Iowa United States  41.975887  -91.670405\n",
       "3        Lawrence Kansas United States  38.971938  -95.235950\n",
       "4        Conway Arkansas United States  35.088696  -92.442101"
      ]
     },
     "execution_count": 174,
     "metadata": {},
     "output_type": "execute_result"
    }
   ],
   "source": [
    "coordinates.head()\n"
   ]
  },
  {
   "cell_type": "code",
   "execution_count": 178,
   "metadata": {},
   "outputs": [],
   "source": [
    "coordinates.to_csv(\"Data/Coordinates.csv\")"
   ]
  },
  {
   "cell_type": "code",
   "execution_count": 479,
   "metadata": {},
   "outputs": [],
   "source": [
    "coordinates = pd.read_csv(\"Data/Coordinates.csv\")"
   ]
  },
  {
   "cell_type": "code",
   "execution_count": 486,
   "metadata": {},
   "outputs": [],
   "source": [
    "globe.columns = ['Unnamed: 0', 'Year', 'Player', 'birth_city', 'birth_state',\n",
    "       'birth_country', 'Location']"
   ]
  },
  {
   "cell_type": "code",
   "execution_count": 497,
   "metadata": {},
   "outputs": [],
   "source": [
    "MapData = globe.merge(coordinates[[\"Location\",\"Latitude\",\"Longitude\"]], on = \"Location\", how=\"left\").drop(\"Unnamed: 0\", axis=1)"
   ]
  },
  {
   "cell_type": "code",
   "execution_count": 499,
   "metadata": {},
   "outputs": [],
   "source": [
    "MapData.to_csv(\"Data/MapData.csv\")"
   ]
  },
  {
   "cell_type": "code",
   "execution_count": null,
   "metadata": {},
   "outputs": [],
   "source": []
  }
 ],
 "metadata": {
  "kernelspec": {
   "display_name": "Python 3",
   "language": "python",
   "name": "python3"
  },
  "language_info": {
   "codemirror_mode": {
    "name": "ipython",
    "version": 3
   },
   "file_extension": ".py",
   "mimetype": "text/x-python",
   "name": "python",
   "nbconvert_exporter": "python",
   "pygments_lexer": "ipython3",
   "version": "3.6.4"
  }
 },
 "nbformat": 4,
 "nbformat_minor": 2
}
